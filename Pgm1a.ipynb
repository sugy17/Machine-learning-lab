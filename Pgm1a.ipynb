{
 "cells": [
  {
   "cell_type": "code",
   "execution_count": 9,
   "metadata": {
    "scrolled": false
   },
   "outputs": [
    {
     "name": "stdout",
     "output_type": "stream",
     "text": [
      "7\n",
      "4\n",
      "     sky airtemp humidity    wind water forecast enjoysport\n",
      "0  Sunny    Warm   Normal  Strong  Warm     Same        Yes\n",
      "1  Sunny    Warm     High  Strong  Warm     Same        Yes\n",
      "2  Rainy    Cold     High  Strong  Warm   Change         No\n",
      "3  Sunny    Warm     High  Strong  Cool   Change        Yes\n",
      "Most specific hypothesis=[ '?', '?', '?', '?', '?', '?']\n",
      "Positive sample\t [['Sunny', 'Warm', 'Normal', 'Strong', 'Warm', 'Same'], ['Sunny', 'Warm', 'High', 'Strong', 'Warm', 'Same'], ['Sunny', 'Warm', 'High', 'Strong', 'Cool', 'Change']]\n",
      "Negative sample\t [['Rainy', 'Cold', 'High', 'Strong', 'Warm', 'Change']]\n",
      "maximally specific hypothesis\n",
      "['Sunny', 'Warm', '?', 'Strong', '?', '?']\n"
     ]
    }
   ],
   "source": [
    "import pandas as pd\n",
    "import csv\n",
    "\n",
    "traindata=pd.read_csv(\"trainingdata1.csv\")\n",
    "\n",
    "cols=traindata.shape[1]\n",
    "rows=traindata.shape[0]\n",
    "\n",
    "print(cols)\n",
    "print(rows)\n",
    "\n",
    "print(traindata)\n",
    "print(\"Most specific hypothesis=[ '?', '?', '?', '?', '?', '?']\")\n",
    "h=['0','0','0','0','0','0']\n",
    "\n",
    "positivesample=[]\n",
    "negativesample=[]\n",
    "\n",
    "for i in range(rows):\n",
    "    trainsample=[]\n",
    "    trainsample.append(traindata.sky[i])\n",
    "    trainsample.append(traindata.airtemp[i])\n",
    "    trainsample.append(traindata.humidity[i])\n",
    "    trainsample.append(traindata.wind[i])\n",
    "    trainsample.append(traindata.water[i])\n",
    "    trainsample.append(traindata.forecast[i])\n",
    "    if(traindata.enjoysport[i]!='No'):\n",
    "        positivesample.append(trainsample)\n",
    "    else:\n",
    "        negativesample.append(trainsample)\n",
    "        \n",
    "print(\"Positive sample\\t\",positivesample)\n",
    "print(\"Negative sample\\t\",negativesample)\n",
    "        \n",
    "for i in range(len(positivesample)):\n",
    "    for j in range(cols-1):\n",
    "        if h[j]=='0':\n",
    "            h[j]=positivesample[i][j]\n",
    "        if h[j]!=positivesample[i][j]:\n",
    "            h[j]='?'\n",
    "        else:\n",
    "            h[j]=positivesample[i][j]\n",
    "    \n",
    "print(\"maximally specific hypothesis\")\n",
    "print(h)"
   ]
  },
  {
   "cell_type": "code",
   "execution_count": null,
   "metadata": {},
   "outputs": [],
   "source": []
  },
  {
   "cell_type": "code",
   "execution_count": null,
   "metadata": {},
   "outputs": [],
   "source": []
  }
 ],
 "metadata": {
  "kernelspec": {
   "display_name": "Python 3",
   "language": "python",
   "name": "python3"
  },
  "language_info": {
   "codemirror_mode": {
    "name": "ipython",
    "version": 3
   },
   "file_extension": ".py",
   "mimetype": "text/x-python",
   "name": "python",
   "nbconvert_exporter": "python",
   "pygments_lexer": "ipython3",
   "version": "3.8.3"
  }
 },
 "nbformat": 4,
 "nbformat_minor": 4
}
