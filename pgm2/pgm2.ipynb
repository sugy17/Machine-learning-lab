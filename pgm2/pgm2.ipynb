{
 "cells": [
  {
   "cell_type": "code",
   "execution_count": 4,
   "metadata": {},
   "outputs": [],
   "source": [
    "import numpy as np\n",
    "import pandas as pd\n",
    "\n",
    "data = pd.DataFrame(pd.read_csv('pgm2.csv'))\n",
    "concepts = np.array(data.iloc[:,:-1])\n",
    "target = np.array(data.iloc[:,-1])\n",
    "                    \n",
    "def learn(concepts,target):\n",
    "    specific_h = concepts[0].copy()\n",
    "    general_h = [[\"?\" for i in range(len(specific_h))] for i in range(len(specific_h))]\n",
    "                    \n",
    "    for i , h in enumerate(concepts):\n",
    "        if target[i] == \"Yes\":\n",
    "            for x in range(len(specific_h)):\n",
    "                if h[x] != specific_h[x]:\n",
    "                    specific_h[x] = '?'\n",
    "                    general_h[x][x] =  '?'\n",
    "                    \n",
    "            print(\"\\n\\nFor Training instance No:{0} the hypothesis is\\n\".format(i))\n",
    "            print(\"Specific hypothesis: \",specific_h)\n",
    "            print(\"General Hypothesis: \",general_h)\n",
    "            \n",
    "        if target[i] == \"No\":\n",
    "            for x in range(len(specific_h)):\n",
    "                if h[x] != specific_h[x]:\n",
    "                    general_h[x][x] = specific_h[x]\n",
    "                else:\n",
    "                    general_h[x][x] = '?'\n",
    "            print(\"\\n\\nFor Training instance No:{0} the hypothesis is\\n\".format(i))\n",
    "            print(\"Specific hypothesis: \",specific_h)\n",
    "            print(\"General Hypothesis: \",general_h)   \n",
    "\n",
    "    indices = [i for i,val in enumerate(general_h) if val == ['?','?','?','?','?','?']]\n",
    "                    \n",
    "    for i in indices:\n",
    "        general_h.remove(['?','?','?','?','?','?'])\n",
    "                    \n",
    "    return specific_h, general_h\n"
   ]
  },
  {
   "cell_type": "code",
   "execution_count": 5,
   "metadata": {},
   "outputs": [
    {
     "name": "stdout",
     "output_type": "stream",
     "text": [
      "******************** Candidate Elimination Algorithm ********************\n",
      "\n",
      "\n",
      "For Training instance No:0 the hypothesis is\n",
      "\n",
      "Specific hypothesis:  ['Sunny' 'Warm' 'Normal' 'Strong' 'Warm' 'Same']\n",
      "General Hypothesis:  [['?', '?', '?', '?', '?', '?'], ['?', '?', '?', '?', '?', '?'], ['?', '?', '?', '?', '?', '?'], ['?', '?', '?', '?', '?', '?'], ['?', '?', '?', '?', '?', '?'], ['?', '?', '?', '?', '?', '?']]\n",
      "\n",
      "\n",
      "For Training instance No:1 the hypothesis is\n",
      "\n",
      "Specific hypothesis:  ['Sunny' 'Warm' '?' 'Strong' 'Warm' 'Same']\n",
      "General Hypothesis:  [['?', '?', '?', '?', '?', '?'], ['?', '?', '?', '?', '?', '?'], ['?', '?', '?', '?', '?', '?'], ['?', '?', '?', '?', '?', '?'], ['?', '?', '?', '?', '?', '?'], ['?', '?', '?', '?', '?', '?']]\n",
      "\n",
      "\n",
      "For Training instance No:2 the hypothesis is\n",
      "\n",
      "Specific hypothesis:  ['Sunny' 'Warm' '?' 'Strong' 'Warm' 'Same']\n",
      "General Hypothesis:  [['Sunny', '?', '?', '?', '?', '?'], ['?', 'Warm', '?', '?', '?', '?'], ['?', '?', '?', '?', '?', '?'], ['?', '?', '?', '?', '?', '?'], ['?', '?', '?', '?', '?', '?'], ['?', '?', '?', '?', '?', 'Same']]\n",
      "\n",
      "\n",
      "For Training instance No:3 the hypothesis is\n",
      "\n",
      "Specific hypothesis:  ['Sunny' 'Warm' '?' 'Strong' '?' '?']\n",
      "General Hypothesis:  [['Sunny', '?', '?', '?', '?', '?'], ['?', 'Warm', '?', '?', '?', '?'], ['?', '?', '?', '?', '?', '?'], ['?', '?', '?', '?', '?', '?'], ['?', '?', '?', '?', '?', '?'], ['?', '?', '?', '?', '?', '?']]\n",
      "Final Specific hypothesis: ['Sunny' 'Warm' '?' 'Strong' '?' '?']\n",
      "General Specific hypothesis: [['Sunny', '?', '?', '?', '?', '?'], ['?', 'Warm', '?', '?', '?', '?']]\n"
     ]
    }
   ],
   "source": [
    "print(\"*\"*20,\"Candidate Elimination Algorithm\",\"*\"*20)\n",
    "s_final,g_final=learn(concepts,target)\n",
    "print(\"Final Specific hypothesis:\",s_final)\n",
    "print(\"General Specific hypothesis:\",g_final)"
   ]
  },
  {
   "cell_type": "code",
   "execution_count": null,
   "metadata": {},
   "outputs": [],
   "source": []
  }
 ],
 "metadata": {
  "kernelspec": {
   "display_name": "Python 3",
   "language": "python",
   "name": "python3"
  },
  "language_info": {
   "codemirror_mode": {
    "name": "ipython",
    "version": 3
   },
   "file_extension": ".py",
   "mimetype": "text/x-python",
   "name": "python",
   "nbconvert_exporter": "python",
   "pygments_lexer": "ipython3",
   "version": "3.8.3"
  }
 },
 "nbformat": 4,
 "nbformat_minor": 4
}
