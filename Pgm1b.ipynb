{
 "cells": [
  {
   "cell_type": "code",
   "execution_count": 1,
   "metadata": {},
   "outputs": [
    {
     "name": "stdout",
     "output_type": "stream",
     "text": [
      "5\n",
      "7\n",
      "    color fungus toughness appearance poisonous\n",
      "0   green   hard        no   wrinkled       yes\n",
      "1   green   hard       yes     smooth        no\n",
      "2   brown   soft        no   wrinkled        no\n",
      "3  orange   hard        no   wrinkled       yes\n",
      "4   green   soft       yes     smooth       yes\n",
      "5   green   hard       yes   wrinkled       yes\n",
      "6  orange   hard        no   wrinkled       yes\n",
      "Most specific hypothesis=[ '?', '?', '?', '?']\n",
      "Positive sample\t [['green', 'hard', 'no', 'wrinkled'], ['green', 'hard', 'yes', 'smooth'], ['brown', 'soft', 'no', 'wrinkled'], ['orange', 'hard', 'no', 'wrinkled'], ['green', 'soft', 'yes', 'smooth'], ['green', 'hard', 'yes', 'wrinkled'], ['orange', 'hard', 'no', 'wrinkled']]\n",
      "Negative sample\t []\n",
      "maximally specific hypothesis\n",
      "['?', '?', '?', '?']\n"
     ]
    }
   ],
   "source": [
    "import pandas as pd\n",
    "import csv\n",
    "\n",
    "traindata=pd.read_csv(\"trainingdata2.csv\")\n",
    "\n",
    "cols=traindata.shape[1]\n",
    "rows=traindata.shape[0]\n",
    "\n",
    "print(cols)\n",
    "print(rows)\n",
    "\n",
    "print(traindata)\n",
    "print(\"Most specific hypothesis=[ '?', '?', '?', '?']\")\n",
    "h=['0','0','0','0']\n",
    "\n",
    "positivesample=[]\n",
    "negativesample=[]\n",
    "\n",
    "for i in range(rows):\n",
    "    trainsample=[]\n",
    "    trainsample.append(traindata.color[i])\n",
    "    trainsample.append(traindata.fungus[i])\n",
    "    trainsample.append(traindata.toughness[i])\n",
    "    trainsample.append(traindata.appearance[i])\n",
    "    if(traindata.poisonous[i]!='No'):\n",
    "        positivesample.append(trainsample)\n",
    "    else:\n",
    "        negativesample.append(trainsample)\n",
    "        \n",
    "print(\"Positive sample\\t\",positivesample)\n",
    "print(\"Negative sample\\t\",negativesample)\n",
    "        \n",
    "for i in range(len(positivesample)):\n",
    "    for j in range(cols-1):\n",
    "        if h[j]=='0':\n",
    "            h[j]=positivesample[i][j]\n",
    "        if h[j]!=positivesample[i][j]:\n",
    "            h[j]='?'\n",
    "        else:\n",
    "            h[j]=positivesample[i][j]\n",
    "    \n",
    "print(\"maximally specific hypothesis\")\n",
    "print(h)"
   ]
  },
  {
   "cell_type": "code",
   "execution_count": null,
   "metadata": {},
   "outputs": [],
   "source": []
  }
 ],
 "metadata": {
  "kernelspec": {
   "display_name": "Python 3",
   "language": "python",
   "name": "python3"
  },
  "language_info": {
   "codemirror_mode": {
    "name": "ipython",
    "version": 3
   },
   "file_extension": ".py",
   "mimetype": "text/x-python",
   "name": "python",
   "nbconvert_exporter": "python",
   "pygments_lexer": "ipython3",
   "version": "3.8.3"
  }
 },
 "nbformat": 4,
 "nbformat_minor": 4
}
